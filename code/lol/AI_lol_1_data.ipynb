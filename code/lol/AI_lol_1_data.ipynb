{
 "cells": [
  {
   "cell_type": "code",
   "execution_count": 74,
   "metadata": {},
   "outputs": [],
   "source": [
    "import requests"
   ]
  },
  {
   "cell_type": "code",
   "execution_count": 86,
   "metadata": {},
   "outputs": [],
   "source": [
    "api_key = 'RGAPI-f4b83d2b-a03f-47f9-a4aa-e4dc1c1dfaf3'\n",
    "\n",
    "\n",
    "tiers = ['CHALLENGER', 'GRANDMASTER', 'MASTER']\n",
    "rank_api = 'https://kr.api.riotgames.com/lol/league-exp/v4/entries/RANKED_SOLO_5x5'"
   ]
  },
  {
   "cell_type": "code",
   "execution_count": 87,
   "metadata": {},
   "outputs": [
    {
     "name": "stdout",
     "output_type": "stream",
     "text": [
      "CHALLENGER 1 205\n",
      "CHALLENGER 2 95\n",
      "GRANDMASTER 1 205\n",
      "GRANDMASTER 2 205\n",
      "GRANDMASTER 3 205\n",
      "GRANDMASTER 4 85\n",
      "MASTER 1 205\n",
      "MASTER 2 205\n",
      "MASTER 3 205\n",
      "MASTER 4 205\n",
      "MASTER 5 205\n",
      "MASTER 6 205\n",
      "MASTER 7 205\n",
      "MASTER 8 205\n",
      "MASTER 9 205\n",
      "MASTER 10 205\n",
      "MASTER 11 205\n",
      "MASTER 12 205\n",
      "MASTER 13 205\n",
      "MASTER 14 205\n",
      "MASTER 15 205\n",
      "MASTER 16 205\n",
      "MASTER 17 205\n",
      "MASTER 18 205\n",
      "MASTER 19 40\n"
     ]
    }
   ],
   "source": [
    "rankers = []\n",
    "\n",
    "for tier in tiers:\n",
    "    page = 1\n",
    "    while(True):\n",
    "        request_url = f'{rank_api}/{tier}/I?page={page}&api_key={api_key}'\n",
    "        user_infos = requests.get(request_url).json()\n",
    "        \n",
    "        if len(user_infos) == 0:\n",
    "            break\n",
    "        \n",
    "        print(tier, page, len(user_infos))\n",
    "        rankers += user_infos\n",
    "        page += 1\n",
    "        \n",
    "            \n",
    "        "
   ]
  },
  {
   "cell_type": "code",
   "execution_count": 88,
   "metadata": {},
   "outputs": [
    {
     "data": {
      "text/plain": [
       "4730"
      ]
     },
     "execution_count": 88,
     "metadata": {},
     "output_type": "execute_result"
    }
   ],
   "source": [
    "len(rankers)"
   ]
  },
  {
   "cell_type": "code",
   "execution_count": 93,
   "metadata": {},
   "outputs": [
    {
     "data": {
      "text/plain": [
       "{'leagueId': 'ba73b86b-97c9-3dfc-856e-88777fec7e56',\n",
       " 'queueType': 'RANKED_SOLO_5x5',\n",
       " 'tier': 'CHALLENGER',\n",
       " 'rank': 'I',\n",
       " 'summonerId': 'qdAYMm0Y44IF_cq6DZHnDpR6tDq_mXkG4OSpMbfDgRTVitk',\n",
       " 'summonerName': 'Kanavi',\n",
       " 'leaguePoints': 1497,\n",
       " 'wins': 391,\n",
       " 'losses': 264,\n",
       " 'veteran': True,\n",
       " 'inactive': False,\n",
       " 'freshBlood': False,\n",
       " 'hotStreak': True}"
      ]
     },
     "execution_count": 93,
     "metadata": {},
     "output_type": "execute_result"
    }
   ],
   "source": [
    "rankers[3]"
   ]
  },
  {
   "cell_type": "code",
   "execution_count": null,
   "metadata": {},
   "outputs": [],
   "source": []
  }
 ],
 "metadata": {
  "kernelspec": {
   "display_name": "Python 3",
   "language": "python",
   "name": "python3"
  },
  "language_info": {
   "codemirror_mode": {
    "name": "ipython",
    "version": 3
   },
   "file_extension": ".py",
   "mimetype": "text/x-python",
   "name": "python",
   "nbconvert_exporter": "python",
   "pygments_lexer": "ipython3",
   "version": "3.7.3"
  }
 },
 "nbformat": 4,
 "nbformat_minor": 2
}
